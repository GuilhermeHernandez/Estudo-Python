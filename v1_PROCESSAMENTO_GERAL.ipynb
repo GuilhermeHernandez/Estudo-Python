{
  "cells": [
    {
      "cell_type": "markdown",
      "metadata": {
        "id": "view-in-github",
        "colab_type": "text"
      },
      "source": [
        "<a href=\"https://colab.research.google.com/github/GuilhermeHernandez/Estudo_Python_FullStack/blob/main/v1_PROCESSAMENTO_GERAL.ipynb\" target=\"_parent\"><img src=\"https://colab.research.google.com/assets/colab-badge.svg\" alt=\"Open In Colab\"/></a>"
      ]
    },
    {
      "cell_type": "markdown",
      "metadata": {
        "id": "mrajB96CP2e5"
      },
      "source": [
        "#IMPORTANDO BIBLIOTECA"
      ]
    },
    {
      "cell_type": "code",
      "execution_count": null,
      "metadata": {
        "colab": {
          "base_uri": "https://localhost:8080/"
        },
        "id": "fvGM-FYcP4wC",
        "outputId": "52728306-9f83-4489-a36a-fdc9246701cf"
      },
      "outputs": [
        {
          "output_type": "stream",
          "name": "stdout",
          "text": [
            "Drive already mounted at /content/drive; to attempt to forcibly remount, call drive.mount(\"/content/drive\", force_remount=True).\n"
          ]
        }
      ],
      "source": [
        "# IMPORTANDO BIBLIOTECA\n",
        "import pandas as pd\n",
        "import os\n",
        "import openpyxl\n",
        "from numpy import nan\n",
        "from google.colab import drive\n",
        "from datetime import datetime\n",
        "drive.mount('/content/drive')"
      ]
    },
    {
      "cell_type": "markdown",
      "metadata": {
        "id": "TJrThI5Rm91a"
      },
      "source": [
        "#TRATAMENTO AUXILIAR"
      ]
    },
    {
      "cell_type": "markdown",
      "metadata": {
        "id": "PJdNXXgJ5UnB"
      },
      "source": [
        "TRATANDO CNAE"
      ]
    },
    {
      "cell_type": "code",
      "execution_count": null,
      "metadata": {
        "id": "ZmZgtm3Wm73l"
      },
      "outputs": [],
      "source": [
        "dados_cnae = pd.read_csv('/content/drive/MyDrive/PROJETO_CONSULTA/Cnae/F.K03200$Z.D40210.CNAECSV' , sep = ';',  encoding=\"ISO-8859-1\")\n",
        "lista_cod_cnae = [int('0111301')]\n",
        "lista_cod_atividade = ['Cultivo de arroz']\n",
        "\n",
        "for cnae in dados_cnae['0111301']:\n",
        "  lista_cod_cnae.append(int(cnae))\n",
        "\n",
        "for atividade in dados_cnae['Cultivo de arroz']:\n",
        "  lista_cod_atividade.append(str(atividade))\n",
        "\n",
        "dicionario_cnae = dict(zip(lista_cod_cnae, lista_cod_atividade))"
      ]
    },
    {
      "cell_type": "code",
      "execution_count": null,
      "metadata": {
        "id": "vAo5EEjuJ512"
      },
      "outputs": [],
      "source": [
        "# Ordenar o dicionário por chave\n",
        "dicionario_ordenado = dict(sorted(dicionario_cnae.items()))"
      ]
    },
    {
      "cell_type": "markdown",
      "metadata": {
        "id": "SRjwP65x46Od"
      },
      "source": [
        "TRATANDO CIDADES"
      ]
    },
    {
      "cell_type": "code",
      "execution_count": null,
      "metadata": {
        "id": "I8mxJpzK49u7"
      },
      "outputs": [],
      "source": [
        "dados_cidade = pd.read_csv('/content/drive/MyDrive/PROJETO_CONSULTA/Municipios/MUNICIPIO.CSV',sep = ';',  encoding=\"ISO-8859-1\")\n",
        "lista_cod_cidade = [1]\n",
        "lista_nome_cidade = ['GUAJARA-MIRIM']\n",
        "\n",
        "for cod_cidade in dados_cidade['0001']:\n",
        "  lista_cod_cidade.append(cod_cidade)\n",
        "\n",
        "for nome_cidade in dados_cidade['GUAJARA-MIRIM']:\n",
        "  lista_nome_cidade.append(nome_cidade)\n",
        "\n",
        "dicionario_cidade = dict(zip(lista_cod_cidade, lista_nome_cidade))"
      ]
    },
    {
      "cell_type": "markdown",
      "metadata": {
        "id": "w_gRh5AaS5im"
      },
      "source": [
        "TRATANDO NATUREZA JURIDICA"
      ]
    },
    {
      "cell_type": "code",
      "execution_count": null,
      "metadata": {
        "id": "mExZDDOGS4kh"
      },
      "outputs": [],
      "source": [
        "dados_Nat_Juridica = pd.read_csv('/content/drive/MyDrive/PROJETO_CONSULTA/Naturezas/NAT_JURIDICA.CSV' , sep = ';',  encoding=\"ISO-8859-1\")\n",
        "lista_nat_juridica = ['Natureza Jurídica não informada']\n",
        "lista_cod_nat_juridica = [int('0000')]\n",
        "\n",
        "for cod in dados_Nat_Juridica['0000']:\n",
        "  lista_cod_nat_juridica.append(int(cod))\n",
        "\n",
        "for nat in dados_Nat_Juridica['Natureza Jurídica não informada']:\n",
        " lista_nat_juridica.append(str(nat))\n",
        "\n",
        "dicionario_Nat_Juridica = dict(zip(lista_cod_nat_juridica, lista_nat_juridica))"
      ]
    },
    {
      "cell_type": "markdown",
      "metadata": {
        "id": "JHzsbvyWZjeS"
      },
      "source": [
        "TRATANDO SITUAÇÃO FISCAL"
      ]
    },
    {
      "cell_type": "code",
      "execution_count": null,
      "metadata": {
        "id": "K4krdI7aZpqJ"
      },
      "outputs": [],
      "source": [
        "dicionario_situacao = {\n",
        "    1:'NULA',\n",
        "    2:'ATIVA',\n",
        "    3:'SUSPENSA',\n",
        "    4:'INAPTA',\n",
        "    8:'BAIXADA'\n",
        "}"
      ]
    },
    {
      "cell_type": "markdown",
      "metadata": {
        "id": "Ikg5YSWVl3Lz"
      },
      "source": [
        "TRATANDO PORTE"
      ]
    },
    {
      "cell_type": "code",
      "execution_count": null,
      "metadata": {
        "id": "nDpcChggmGqj"
      },
      "outputs": [],
      "source": [
        "dicionario_porte ={\n",
        "    \"NÃO INFORMADO\" : \"NÃO INFORMADO\" ,\n",
        "    0 : 'NÃO INFORMADO',\n",
        "    '00' : 'NÃO INFORMADO',\n",
        "    1.0 : 'MICRO EMPRESA',\n",
        "    '01' : 'MICRO EMPRESA',\n",
        "    3.0 : 'EMPRESA PEQUENO PORTE',\n",
        "    '03' : 'EMPRESA PEQUENO PORTE',\n",
        "    5.0 : 'MEDIO PORTE OU GRANDE',\n",
        "    '05' : 'MEDIO PORTE OU GRANDE',\n",
        "    'EMPRESA PEQUENO PORTE' : 'EMPRESA PEQUENO PORTE',\n",
        "    'MICRO EMPRESA' : 'MICRO EMPRESA',\n",
        "    'MEDIO PORTE OU GRANDE' : 'MEDIO PORTE OU GRANDE'\n",
        "}"
      ]
    },
    {
      "cell_type": "markdown",
      "metadata": {
        "id": "9zXZe7RUOLRM"
      },
      "source": [
        "TRATANDO ID DO SOCIO"
      ]
    },
    {
      "cell_type": "code",
      "execution_count": null,
      "metadata": {
        "id": "j7aiw1LSOOPL"
      },
      "outputs": [],
      "source": [
        "dicionario_id_socio = {\n",
        "    0 : 'NÃO INFORMADO',\n",
        "    1 : 'PESSOA JURIDICA',\n",
        "    2 : 'PESSOA FISICA',\n",
        "    3 : 'ESTRANGEIRO',\n",
        "    'NÃO INFORMADO' : 'NÃO INFORMADO',\n",
        "    nan : 'NÃO INFORMADO'\n",
        "}"
      ]
    },
    {
      "cell_type": "markdown",
      "metadata": {
        "id": "GRVOl23WOV_N"
      },
      "source": [
        "TRATANDO QUALIFICAÇÃO SOCIO"
      ]
    },
    {
      "cell_type": "code",
      "execution_count": null,
      "metadata": {
        "id": "DN6pBUZbOVJs"
      },
      "outputs": [],
      "source": [
        "# Ler o arquivo CSV com as informações de qualificação\n",
        "dados_qualificacao = pd.read_csv('/content/drive/MyDrive/PROJETO_CONSULTA/Qualificacao/QUALIFICACAO.CSV', sep=';', encoding=\"ISO-8859-1\")\n",
        "\n",
        "# Criar um dicionário com as informações de qualificação\n",
        "dicionario_qualificacao = {}\n",
        "for index, row in dados_qualificacao.iterrows():\n",
        "    for coluna in dados_qualificacao.columns:\n",
        "        if row[coluna] == 'NÃO INFORMADO':\n",
        "            dicionario_qualificacao[int(row['00'])] = 'NÃO INFORMADO'\n",
        "            break\n",
        "\n",
        "# Verificar se a chave 'NÃO INFORMADO' existe no dicionário\n",
        "if 'NÃO INFORMADO' not in dicionario_qualificacao:\n",
        "    # Definir um valor padrão para 'NÃO INFORMADO'\n",
        "    dicionario_qualificacao['NÃO INFORMADO'] = 'NÃO INFORMADO'"
      ]
    },
    {
      "cell_type": "markdown",
      "metadata": {
        "id": "jOzLf-0-16vD"
      },
      "source": [
        "TRATANDO DADOS SIMPLES E MEI"
      ]
    },
    {
      "cell_type": "code",
      "execution_count": null,
      "metadata": {
        "id": "Iw_46y-r2A_Q"
      },
      "outputs": [],
      "source": [
        "dicionario_simples_mei = {\n",
        "    'S' : 'SIM',\n",
        "    'N' : 'NAO',\n",
        "    'NÃO INFORMADO' : 'NÃO INFORMADO',\n",
        "    nan : 'NÃO INFORMADO'\n",
        "                          }"
      ]
    },
    {
      "cell_type": "markdown",
      "metadata": {
        "id": "TgVJvMPeOaSV"
      },
      "source": [
        "TRATANDO FAIXA ETARIA"
      ]
    },
    {
      "cell_type": "code",
      "execution_count": null,
      "metadata": {
        "id": "JhRsNaP4OavU"
      },
      "outputs": [],
      "source": [
        "dicionario_faixa_idade = {\n",
        "  0 : 'NÃO SE APLICA',\n",
        "  1 : '0 A 12 ANOS',\n",
        "  2 : '13 A 20 ANOS',\n",
        "  3 : '21 A 30 ANOS',\n",
        "  4 : '31 A 40 ANOS',\n",
        "  5 : '41 A 50 ANOS',\n",
        "  6 : '51 A 60 ANOS',\n",
        "  7 : '61 A 70 ANOS',\n",
        "  8 : '71 A 80 ANOS',\n",
        "  9 : 'MAIORES DE 80 ANOS'\n",
        "}"
      ]
    },
    {
      "cell_type": "markdown",
      "metadata": {
        "id": "uZyy5efOBQ4L"
      },
      "source": [
        "#FUNÇÕES"
      ]
    },
    {
      "cell_type": "code",
      "execution_count": null,
      "metadata": {
        "id": "bGA6D-6AC2fw"
      },
      "outputs": [],
      "source": [
        "#FORMATANDO CNPJ BASICO\n",
        "def formatarCNPJ(dataframe):\n",
        "  lista_cnpj_formatado = []\n",
        "\n",
        "  for clt in dataframe.CNPJ_BASICO:\n",
        "\n",
        "    clt = str(clt)\n",
        "\n",
        "    if len(clt) == 7:\n",
        "      clt = '0' + str(clt)\n",
        "    elif len(clt) == 6:\n",
        "      clt = '00' + str(clt)\n",
        "    elif len(clt) == 5:\n",
        "      clt = '000' + str(clt)\n",
        "    elif len(clt) == 4:\n",
        "      clt = '0000' + str(clt)\n",
        "    elif len(clt) == 3:\n",
        "      clt = '00000' + str(clt)\n",
        "    elif len(clt) == 2:\n",
        "      clt = '000000' + str(clt)\n",
        "    elif len(clt) == 1:\n",
        "      clt = '0000000' + str(clt)\n",
        "\n",
        "    lista_cnpj_formatado.append(clt)\n",
        "\n",
        "  return lista_cnpj_formatado"
      ]
    },
    {
      "cell_type": "code",
      "execution_count": null,
      "metadata": {
        "id": "jCP2rKPFnF9D"
      },
      "outputs": [],
      "source": [
        "def preencher_dados_socios(df_main, df_principal, dicionario_id_socio, dicionario_qualificacao, dicionario_faixa_idade, max_socios):\n",
        "    for i in range(1, max_socios + 1):\n",
        "        df_main[f'NOME_SOCIO_{i}'] = df_principal[f'NOME_DO_SOCIO_{i}']\n",
        "        df_main[f'IDENTIFICADOR_SOCIO_{i}'] = [dicionario_id_socio.get(id, 'NÃO INFORMADO') for id in df_principal[f'ID_DE_SOCIO_{i}']]\n",
        "        df_main[f'QUALIFICACAO_SOCIO_{i}'] = [dicionario_qualificacao.get(int(qual), 'NÃO INFORMADO') if qual != 'NÃO INFORMADO' else 'NÃO INFORMADO' for qual in df_principal[f'QUALIFICACAO_DO_SOCIO_{i}']]\n",
        "        df_main[f'FAIXA_ETARIA_SOCIO_{i}'] = [dicionario_faixa_idade.get(faixa, 'NÃO INFORMADO') for faixa in df_principal[f'FAIXA_ETARIA_{i}']]\n"
      ]
    },
    {
      "cell_type": "code",
      "execution_count": null,
      "metadata": {
        "id": "Yl4isQ3enhrA"
      },
      "outputs": [],
      "source": [
        "def tratar_dados_socios(df_principal, max_socios=5):\n",
        "    for i in range(1, max_socios + 1):\n",
        "        df_principal[f'ID_DE_SOCIO_{i}'] = df_principal[f'ID_DE_SOCIO_{i}'].fillna('NÃO INFORMADO')\n",
        "        df_principal[f'QUALIFICACAO_DO_SOCIO_{i}'] = df_principal[f'QUALIFICACAO_DO_SOCIO_{i}'].fillna(0)\n",
        "        df_principal[f'FAIXA_ETARIA_{i}'] = df_principal[f'FAIXA_ETARIA_{i}'].fillna(0)"
      ]
    },
    {
      "cell_type": "code",
      "execution_count": null,
      "metadata": {
        "id": "aAUy-WWvpCB5"
      },
      "outputs": [],
      "source": [
        "def processamentoDadosSimples():\n",
        "  #DADOS SIMPLES\n",
        "  dados_simples = pd.read_csv('/content/drive/MyDrive/PROJETO_CONSULTA/Simples/SIMPLES_NACIONAL-001.CSV',encoding=\"ISO-8859-1\",sep=';',usecols=[0,1,4],dtype={'00000000': str})\n",
        "\n",
        "  #NOMEANDO COLUNAS\n",
        "  dados_simples.columns=  ['CNPJ_BASICO','SIMPLES_NACIONAL','MEI']\n",
        "\n",
        "  return dados_simples"
      ]
    },
    {
      "cell_type": "markdown",
      "metadata": {
        "id": "34JGhsCU6NJA"
      },
      "source": [
        "#PROCESSAMENTO PRINCIPAL"
      ]
    },
    {
      "cell_type": "code",
      "execution_count": null,
      "metadata": {
        "id": "PLprix8x7Ubu"
      },
      "outputs": [],
      "source": [
        "dados_simples = processamentoDadosSimples()"
      ]
    },
    {
      "cell_type": "code",
      "execution_count": null,
      "metadata": {
        "id": "1VzfIYoy6v4n"
      },
      "outputs": [],
      "source": [
        "# LENDO CSV DOS SOCIOS\n",
        "dados_socios = pd.read_csv(f'/content/drive/MyDrive/PROJETO_CONSULTA/RESULTADO ANALISE/CSV_SOCIOS.csv', sep = ',', encoding=\"ISO-8859-1\")\n",
        "\n",
        "# EXCLUINDO PRIMEIRA COLUNA\n",
        "dados_socios = dados_socios.drop(\"Unnamed: 0\",axis=1)\n",
        "\n",
        "#FORMATANDO CNPJ\n",
        "lista_cnpj_formatado = formatarCNPJ(dados_socios)\n",
        "\n",
        "# ADICIONANDO A NOVA FORMATAÇÃO PARA CNPJ_BASICO\n",
        "dados_socios['CNPJ_BASICO'] = pd.Series(lista_cnpj_formatado).replace(r';', ' ', regex=True)"
      ]
    },
    {
      "cell_type": "code",
      "execution_count": null,
      "metadata": {
        "id": "7iu-SOHKZ4W2",
        "colab": {
          "base_uri": "https://localhost:8080/"
        },
        "outputId": "59ad07c9-fdd3-4672-a7d1-b38bbf0a94bd"
      },
      "outputs": [
        {
          "output_type": "stream",
          "name": "stderr",
          "text": [
            "<ipython-input-18-3df9f0893cf9>:7: DtypeWarning: Columns (21,22,24) have mixed types. Specify dtype option on import or set low_memory=False.\n",
            "  dados = pd.read_csv(f'/content/drive/MyDrive/PROJETO_CONSULTA/Estabelecimento/K3241.K03200Y{count_processo}.D40210.ESTABELE' , sep = ';', encoding=\"ISO-8859-1\",usecols=[0,1,2,4,5,6,10,11,12,13,14,15,16,17,18,19,20,21,22,23,24,27])\n",
            "<ipython-input-18-3df9f0893cf9>:365: FutureWarning: The default dtype for empty Series will be 'object' instead of 'float64' in a future version. Specify a dtype explicitly to silence this warning.\n",
            "  df_main['TELEFONE2'] = pd.Series(lista_telefone2).replace(r';', ' ', regex=True)\n"
          ]
        }
      ],
      "source": [
        "count_processo = 9\n",
        "\n",
        "while (count_processo < 10) :\n",
        "    count_empresas = 9\n",
        "\n",
        "      #DADOS ESTABELECIMENTO\n",
        "    dados = pd.read_csv(f'/content/drive/MyDrive/PROJETO_CONSULTA/Estabelecimento/K3241.K03200Y{count_processo}.D40210.ESTABELE' , sep = ';', encoding=\"ISO-8859-1\",usecols=[0,1,2,4,5,6,10,11,12,13,14,15,16,17,18,19,20,21,22,23,24,27])\n",
        "    dados.columns = ['CNPJ_BASICO','CNPJ1','CNPJ2','NOME_FANTASIA','SITUAÇÃO_CADASTRAL','DT_SITUAÇÃO_CADASTRAL','DT_ABERTURA','CNAE','CNAE SEC','TIPO_LAGRADOURO','LOGRADOURO','NUMERO','COMPLEMENTO','BAIRRO','CEP','UF','MUNICIPIO','DDD1','TELEFONE1','DDD2','TELEFONE2','EMAIL']\n",
        "\n",
        "      # LISTA DE CNPJ FORMATADO\n",
        "    lista_cnpj_formatado_Estabelecimento = formatarCNPJ(dados)\n",
        "\n",
        "      # ADICIONANDO A NOVA FORMATAÇÃO PARA CNPJ_BASICO\n",
        "    dados['CNPJ_BASICO'] = pd.Series(lista_cnpj_formatado_Estabelecimento).replace(r';', ' ', regex=True)\n",
        "\n",
        "    while (count_empresas < 10) :\n",
        "\n",
        "            #DADOS EMPRESAS\n",
        "        dados_empresas = pd.read_csv(f'/content/drive/MyDrive/PROJETO_CONSULTA/Empresas/K3241.K03200Y{count_empresas}.D40210.EMPRECSV', sep = ';',  encoding=\"ISO-8859-1\", usecols=[0,1,2,4,5], dtype={5: str})\n",
        "        dados_empresas.columns = ['CNPJ_BASICO','RAZAO_SOCIAL','NAT_JURIDICA','CAPITAL_SOCIAL','PORTE_DA_EMPRESA']\n",
        "\n",
        "            # LISTA DE CNPJ FORMATADO\n",
        "        lista_cnpj_formatado = formatarCNPJ(dados_empresas)\n",
        "\n",
        "            # ADICIONANDO A NOVA FORMATAÇÃO PARA CNPJ_BASICO\n",
        "        dados_empresas['CNPJ_BASICO'] = pd.Series(lista_cnpj_formatado).replace(r';', ' ', regex=True)\n",
        "\n",
        "            # unindo os dataframes com base na coluna_comum\n",
        "        df_principal = pd.merge(dados, dados_empresas, on='CNPJ_BASICO', how='inner')\n",
        "\n",
        "            # unindo socios\n",
        "        df_principal = pd.merge(df_principal, dados_socios, on='CNPJ_BASICO', how='left')\n",
        "\n",
        "            # unindo simples\n",
        "        df_principal = pd.merge(df_principal, dados_simples, on='CNPJ_BASICO', how='left')\n",
        "\n",
        "        df_principal['SIMPLES_NACIONAL'] = [dicionario_simples_mei[dado] for dado in df_principal.SIMPLES_NACIONAL]\n",
        "        df_principal['MEI'] = [dicionario_simples_mei[dado] for dado in df_principal.MEI]\n",
        "        df_principal = df_principal.fillna('NÃO INFORMADO')\n",
        "\n",
        "\n",
        "        # SCRIP QUE GERA CNPJ_FORMATADO E CNPJ BASICO SEM FORMATACAO\n",
        "\n",
        "        # CNPJ BASICO , CNPJ1 E CNPJ 2 AGRUPADOS (COLUNA -> CNPJ)\n",
        "\n",
        "        listaCnpjSemForm = []\n",
        "        listaCnpj1SemForm = []\n",
        "        listaCnpj2SemForm = []\n",
        "        listaCnpjBasico = []\n",
        "        listaCnpjFormatado = []\n",
        "\n",
        "        dataframe_cnpj = pd.DataFrame()\n",
        "\n",
        "        # CAPTURANDO O CNPJ BASICO\n",
        "        for clt in df_principal.CNPJ_BASICO:\n",
        "          listaCnpjSemForm.append(clt)\n",
        "\n",
        "        # FORMATANDO CNPJ1 (4 DIGITOS)\n",
        "        for clt in df_principal.CNPJ1:\n",
        "\n",
        "          clt = str(clt)\n",
        "\n",
        "          if len(clt) == 1:\n",
        "            clt = '000' + str(clt)\n",
        "          elif len(clt) == 2:\n",
        "            clt = '00' + str(clt)\n",
        "          elif len(clt) == 3:\n",
        "            clt = '0' + str(clt)\n",
        "          listaCnpj1SemForm.append(clt)\n",
        "\n",
        "        # FORMATANDO CNPJ2\n",
        "        for clt in df_principal.CNPJ2:\n",
        "\n",
        "          clt = str(clt)\n",
        "\n",
        "          if len(clt) == 1:\n",
        "            clt = '0' + clt\n",
        "\n",
        "          listaCnpj2SemForm.append(clt)\n",
        "\n",
        "        # AGRUPANDO EM UM DATAFRAME DE TUPLAS\n",
        "        CNPJ_Sem_formato = pd.Series(zip(listaCnpjSemForm,listaCnpj1SemForm,listaCnpj2SemForm))\n",
        "\n",
        "        #FORMATANDO DATAFRAME\n",
        "        for cnpj_tupla in CNPJ_Sem_formato:\n",
        "\n",
        "        # DEIXANDO O CNPJ LIMPO\n",
        "          Cnpj_temp_S_Formatacao = str(cnpj_tupla).replace(\",\",\"\").replace(\"'\",\"\").replace(\"(\",\"\").replace(\")\",\"\").replace(\", \",\"\").replace(\" \",\"\")\n",
        "          listaCnpjBasico.append(Cnpj_temp_S_Formatacao)\n",
        "\n",
        "        # DEIXANDO O CNPJ FORMATADO\n",
        "          Cnpj_temp_Com_Formatacao = str(cnpj_tupla).replace(\", '\",\"/\",1).replace(\", '\",\"-\",2).replace(\"'\",\"\").replace(\"(\",\"\").replace(\")\",\"\")\n",
        "          Cnpj_temp_Com_Formatacao = list(Cnpj_temp_Com_Formatacao)\n",
        "          Cnpj_temp_Com_Formatacao.insert(2,'.')\n",
        "          Cnpj_temp_Com_Formatacao.insert(6,'.')\n",
        "          Cnpj_temp_Com_Formatacao = ''.join(Cnpj_temp_Com_Formatacao)\n",
        "          listaCnpjFormatado.append(Cnpj_temp_Com_Formatacao)\n",
        "\n",
        "            # LISTA DE NOMES\n",
        "        lista_NomeFantasia = []\n",
        "        lista_RazaoSocial = []\n",
        "\n",
        "            #TRATANDO RAZÃO SOCIAL\n",
        "        for razaoSocial in df_principal.RAZAO_SOCIAL:\n",
        "          lista_RazaoSocial.append(razaoSocial)\n",
        "\n",
        "        #TRATANDO NOME FANTASIA\n",
        "        for nomeFantasia in df_principal.NOME_FANTASIA:\n",
        "          lista_NomeFantasia.append(nomeFantasia)\n",
        "\n",
        "        # LISTA DE ENDEREÇOS\n",
        "        lista_TipoLagradouro = []\n",
        "        lista_Lagradouro = []\n",
        "        lista_Endereco_tuplas = []\n",
        "        lista_Endereco_formatado = []\n",
        "        lista_numero = []\n",
        "        lista_complemento = []\n",
        "        lista_cep_basico = []\n",
        "        lista_cep_formatado = []\n",
        "        lista_Bairro = []\n",
        "        lista_Estado = []\n",
        "        lista_EnderecoCompleto = []\n",
        "        lista_Cidade = []\n",
        "\n",
        "        # TRATANDO TIPO LAGRADOURO\n",
        "        for Tipolagradouro in df_principal.TIPO_LAGRADOURO:\n",
        "\n",
        "          Tipolagradouro = str(Tipolagradouro)\n",
        "\n",
        "          # SE FOR N É PADRÃO\n",
        "          if Tipolagradouro == 'n' or Tipolagradouro == 'nan':\n",
        "            Tipolagradouro = 'NÃO INFORMADO'\n",
        "          else:\n",
        "            Tipolagradouro = Tipolagradouro.replace(\"('\",\"\").replace(\"',\",\"\").replace(\"'\",\"\").replace(\")\",\"\").replace(\";\",\"\")\n",
        "\n",
        "          lista_TipoLagradouro.append(Tipolagradouro)\n",
        "\n",
        "        # TRATANDO ENDEREÇO\n",
        "        for lagradouro in df_principal.LOGRADOURO:\n",
        "\n",
        "          lagradouro = str(lagradouro)\n",
        "\n",
        "          if lagradouro == 'nan':\n",
        "            lagradouro = 'NÃO INFORMADO'\n",
        "          else:\n",
        "            lagradouro = lagradouro.replace(\"('\",\"\").replace(\"',\",\"\").replace(\"'\",\"\").replace(\")\",\"\").replace(\";\",\"\")\n",
        "\n",
        "          lista_Lagradouro.append(lagradouro)\n",
        "\n",
        "        lista_Endereco_tuplas = pd.Series(zip(lista_TipoLagradouro,lista_Lagradouro))\n",
        "\n",
        "        # FORMATANDO ENDERECO\n",
        "        for endereco in lista_Endereco_tuplas:\n",
        "\n",
        "          endereco = str(endereco)\n",
        "\n",
        "          if endereco == 'nan':\n",
        "            endereco = 'NÃO INFORMADO'\n",
        "          else:\n",
        "            endereco = str(endereco).replace(\"('\",\"\").replace(\"',\",\"\").replace(\"'\",\"\").replace(\")\",\"\").replace(\";\",\"\")\n",
        "\n",
        "          lista_Endereco_formatado.append(endereco)\n",
        "\n",
        "        # TRATANDO NUMERO\n",
        "        for numero in df_principal.NUMERO :\n",
        "\n",
        "          numero = str(numero)\n",
        "\n",
        "          if numero == 'S/N':\n",
        "            numero = '0'\n",
        "\n",
        "          lista_numero.append(numero)\n",
        "\n",
        "        # TRATANDO COMPLEMENTO\n",
        "        for complemento in df_principal.COMPLEMENTO:\n",
        "\n",
        "          complemento = str(complemento)\n",
        "\n",
        "          if complemento == 'nan':\n",
        "            complemento = '0'\n",
        "          else:\n",
        "            complemento = complemento.replace(\"('\",\"\").replace(\"',\",\"\").replace(\"'\",\"\").replace(\")\",\"\").replace(\";\",\"\")\n",
        "\n",
        "          lista_complemento.append(complemento)\n",
        "\n",
        "        # TRATANDO CEP\n",
        "        for cep in df_principal.CEP:\n",
        "            cep = str(cep)\n",
        "\n",
        "            # SE FOR N É PADRÃO\n",
        "            if cep == 'n' or cep == 'nan':\n",
        "                cep_basico = '00000000'\n",
        "            else:\n",
        "                cep_basico = cep[:-2]\n",
        "\n",
        "            lista_cep_basico.append(cep_basico)\n",
        "\n",
        "            if len(cep_basico) == 8:\n",
        "                cep_formatado = list(cep_basico)\n",
        "                cep_formatado.insert(5, '-')\n",
        "                cep_formatado = ''.join(cep_formatado)\n",
        "                lista_cep_formatado.append(cep_formatado)\n",
        "\n",
        "        # TRATANDO BAIRRO\n",
        "        for bairro in df_principal.BAIRRO:\n",
        "\n",
        "          bairro = str(bairro)\n",
        "\n",
        "          if bairro == 'nan':\n",
        "            bairro = 'NÃO INFORMADO'\n",
        "          else:\n",
        "            bairro = bairro.replace(\"('\",\"\").replace(\"',\",\"\").replace(\"'\",\"\").replace(\")\",\"\").replace(\";\",\"\")\n",
        "\n",
        "          lista_Bairro.append(bairro)\n",
        "\n",
        "        # TRATANDO ESTADO\n",
        "        for estado in df_principal.UF:\n",
        "\n",
        "          estado = str(estado)\n",
        "\n",
        "          if estado == 'EX':\n",
        "            estado_form = 'EXTERIOR'\n",
        "            lista_Estado.append(estado_form)\n",
        "          else:\n",
        "            lista_Estado.append(estado)\n",
        "\n",
        "        # TRATANDO CIDADE\n",
        "        for cidade in df_principal.MUNICIPIO:\n",
        "\n",
        "          if cidade == 'nan':\n",
        "            cidade = 'NÃO INFORMADO'\n",
        "\n",
        "          lista_Cidade.append(dicionario_cidade[cidade])\n",
        "\n",
        "        # FORMATANDO ENDEREÇO COMPLETO\n",
        "        lista_EnderecoCompleto_tuplas = pd.Series(zip(lista_Endereco_formatado,lista_numero,lista_Cidade,lista_Estado))\n",
        "\n",
        "        for enderecoCompleto in lista_EnderecoCompleto_tuplas:\n",
        "          enderecoCompleto = str(enderecoCompleto).replace(\"('\",\"\").replace(\"('\",\"\").replace(\"'\",\"\").replace(\":\",\"\").replace(\";\",\"\")\n",
        "          lista_EnderecoCompleto.append(enderecoCompleto)\n",
        "\n",
        "        lista_CapitalSocial = []\n",
        "        lista_NaturezaJuridica = []\n",
        "        lista_DataAbertura = []\n",
        "        lista_DataSituacaoCadastral = []\n",
        "\n",
        "        #CAPITAL SOCIAL\n",
        "        for capitalSocial in df_principal.CAPITAL_SOCIAL:\n",
        "          lista_CapitalSocial.append(capitalSocial)\n",
        "\n",
        "        #NATUREZA JURIDICA\n",
        "        for natureza_juridica in df_principal.NAT_JURIDICA:\n",
        "          lista_NaturezaJuridica.append(str(dicionario_Nat_Juridica[natureza_juridica]).upper())\n",
        "\n",
        "        #DATA ABERTURA\n",
        "        for data in df_principal.DT_ABERTURA:\n",
        "          data = datetime.strptime(str(data),'%Y%m%d').strftime(\"%Y-%m-%d\")\n",
        "          lista_DataAbertura.append(data)\n",
        "\n",
        "        for data in df_principal.DT_SITUAÇÃO_CADASTRAL:\n",
        "            if data == '0' or data == 0 or pd.isnull(data):\n",
        "\n",
        "                # Trate valores inválidos ou ausentes como desejar, por exemplo, atribuindo None ou uma data padrão.\n",
        "                lista_DataSituacaoCadastral.append(None)  # ou lista_DataSituacaoCadastral.append('1970-01-01') para uma data padrão.\n",
        "            else:\n",
        "                data_convertida = datetime.strptime(str(data), '%Y%m%d').strftime(\"%Y-%m-%d\")\n",
        "                lista_DataSituacaoCadastral.append(data_convertida)\n",
        "\n",
        "                #TRATANDO IDADES\n",
        "        lista_idade_empresa = []\n",
        "\n",
        "        for item in df_principal['DT_ABERTURA']:\n",
        "          abertura = str(item)[:4]\n",
        "          idade = 2023 - int(abertura)\n",
        "          lista_idade_empresa.append(idade)\n",
        "\n",
        "                #TRATANDO LISTA DE DDD\n",
        "        lista_ddd = []\n",
        "\n",
        "        for ddd in df_principal.DDD1:\n",
        "          ddd = str(ddd)[:-2]\n",
        "          lista_ddd.append(ddd)\n",
        "\n",
        "                #TRATANDO LISTA DE DDD\n",
        "        lista_ddd2 = []\n",
        "\n",
        "        for ddd2 in df_principal.DDD2:\n",
        "          ddd2 = str(ddd2)[:-2]\n",
        "          lista_ddd2.append(ddd2)\n",
        "\n",
        "                #TRATANDO LISTA DE TELENONE\n",
        "        lista_telefone = []\n",
        "\n",
        "        for tel in df_principal.TELEFONE1:\n",
        "          tel = str(tel)[:-2]\n",
        "          lista_telefone.append(tel)\n",
        "\n",
        "                #TRATANDO LISTA DE TELENONE 2\n",
        "        lista_telefone2 = []\n",
        "\n",
        "        for tel2 in df_principal.TELEFONE1:\n",
        "          tel2 = str(tel2)[:-2]\n",
        "          lista_telefone.append(tel2)\n",
        "\n",
        "        ############################################  CRIANDO O NOVO DATAFRAME ############################\n",
        "        df_principal['PORTE_DA_EMPRESA'] = df_principal['PORTE_DA_EMPRESA'].map(dicionario_porte).fillna('NÃO INFORMADO')\n",
        "        tratar_dados_socios(df_principal, max_socios=5)\n",
        "\n",
        "        # Converta a lista para uma série pandas\n",
        "        serie_endereco = pd.Series(lista_EnderecoCompleto)\n",
        "\n",
        "            #CRIANDO DATAFRAME\n",
        "        df_main = pd.DataFrame()\n",
        "\n",
        "        #    #COLUNAS DE CNPJ E RAZÃO SOCIAL\n",
        "        df_main['CNPJ_FORMATADO'] = pd.Series(listaCnpjFormatado).replace(r';', ' ', regex=True)\n",
        "        df_main['CNPJ'] = pd.Series(listaCnpjBasico).astype(str)\n",
        "        df_main['NOME DA EMPRESA'] = pd.Series(lista_RazaoSocial)\n",
        "        df_main['NOME FANTASIA'] = pd.Series(lista_NomeFantasia)\n",
        "\n",
        "            #COLUNAS DE ENDEREÇO\n",
        "        df_main['ENDERECO'] = pd.Series(lista_Endereco_formatado)\n",
        "        df_main['NUMERO'] = pd.Series(lista_numero)\n",
        "        df_main['COMPLEMENTO'] = pd.Series(lista_complemento).fillna('NÃO INFORMADO').replace(r';', ' ', regex=True).replace(r':', ' ', regex=True).replace(r'/', ' ', regex=True).replace(r\"\\\\\", ' ', regex=True)\n",
        "        df_main['COMPLEMENTO'] = df_main['COMPLEMENTO'].str.strip()\n",
        "        df_main['CEP'] = pd.Series(lista_cep_basico).fillna('00000000')\n",
        "        df_main['CEP FORMATADO'] = df_main['CEP'].str[:5] + '-' + df_main['CEP'].str[5:]\n",
        "        df_main['BAIRRO'] = pd.Series(lista_Bairro)\n",
        "        df_main['CIDADE'] = pd.Series(lista_Cidade)\n",
        "        df_main['ESTADO'] = pd.Series(lista_Estado)\n",
        "        df_main['END COMPLETO'] = serie_endereco.str.replace(r'[;()\\[\\]]', ' ', regex=True)\n",
        "\n",
        "            # INFORMAÇÕES DA REGIÃO\n",
        "            #df_main['MICRORREGIAO']\n",
        "            #df_main['MESORREGIAO']\n",
        "            #df_main['REGIAO']\n",
        "\n",
        "        # INFORMAÇÕES SOBRE A NATUREZA DA EMPRESA                                       # DEPOIS PASSAR PARA LISTA TODAS ESSES FOR DIRETO NO DF PRINCIPAL\n",
        "        df_main['PORTE EMPRESA'] = df_principal['PORTE_DA_EMPRESA']\n",
        "        df_main['OPTANTE_SIMPLES'] = df_principal['SIMPLES_NACIONAL']\n",
        "        df_main['OPTANTE_MEI' ]=  df_principal['MEI']\n",
        "        df_main['CAPITAL SOCIAL'] = pd.Series(lista_CapitalSocial)\n",
        "        df_main['NATUREZA JURIDICA'] = pd.Series(lista_NaturezaJuridica)\n",
        "        df_main['DATA ABERTURA'] = pd.Series(lista_DataAbertura)\n",
        "        df_main['IDADE EMPRESA'] = pd.Series(lista_idade_empresa).replace(r';', ' ', regex=True)\n",
        "        df_main['SITUAÇÃO_CADASTRAL'] =  [dicionario_situacao[situacao] for situacao in df_principal.SITUAÇÃO_CADASTRAL]\n",
        "        df_main['DATA_SIT CADASTRAL'] = pd.Series(lista_DataSituacaoCadastral)\n",
        "\n",
        "            # INFORMAÇÕES SOBRE ATIVIDADE DA EMPRESA\n",
        "            #df_main['REGULAMENTACAO']\n",
        "            #df_main['QTDE_FILIAL']\n",
        "            #df_main['AREA_ATUACAO']\n",
        "            #df_main['NMR_EMPREGADOS']\n",
        "            #df_main['OBSERVACAO']\n",
        "\n",
        "        df_main['CNAE'] = df_principal['CNAE']\n",
        "        df_main['CNAE_FORMATADO'] = [dicionario_cnae[cnae] for cnae in df_principal.CNAE]\n",
        "        df_main['CNAE_SECUNDARIO'] = df_principal['CNAE SEC'].fillna(0).replace(r';', ' ', regex=True)\n",
        "\n",
        "        # INFORMAÇÕES CONTATO\n",
        "        df_main['EMAIL'] = df_principal['EMAIL'].replace(r';', ' ', regex=True)\n",
        "        df_main['DDD1'] = pd.Series(lista_ddd).replace(r';', ' ', regex=True)\n",
        "        df_main['TELEFONE1'] = pd.Series(lista_telefone).replace(r';', ' ', regex=True)\n",
        "        df_main['DDD2'] = pd.Series(lista_ddd2).replace(r';', ' ', regex=True)\n",
        "        df_main['TELEFONE2'] = pd.Series(lista_telefone2).replace(r';', ' ', regex=True)\n",
        "\n",
        "        # INFORMAÇÕES DE REDE\n",
        "        #df_main['SITE']\n",
        "        #df_main['FACEBOOK']\n",
        "        #df_main['INSTAGRAM']\n",
        "        #df_main['YOUTUBE']\n",
        "        #df_main['LINKEDIN']\n",
        "\n",
        "        #df_main['TAG1']\n",
        "        #df_main['TAG2']\n",
        "        #df_main['TAG3']\n",
        "        #df_main['TAG4']\n",
        "        #df_main['TAG5']\n",
        "\n",
        "\n",
        "\n",
        "        # Chamar a função para preencher os dados dos sócios até o 5º sócio\n",
        "        preencher_dados_socios(df_main, df_principal, dicionario_id_socio, dicionario_qualificacao, dicionario_faixa_idade, max_socios=5)\n",
        "\n",
        "        # Definir o número máximo de linhas por arquivo CSV\n",
        "        linhas_por_arquivo = 100000\n",
        "\n",
        "        # Obter o número total de linhas do DataFrame\n",
        "        total_linhas = len(df_main)\n",
        "\n",
        "        # Criar um diretório para salvar os arquivos CSV\n",
        "        diretorio_destino = '/content/drive/MyDrive/PROJETO_CONSULTA/RESULTADO ANALISE/'\n",
        "        os.makedirs(diretorio_destino, exist_ok=True)\n",
        "\n",
        "        # Dividir o DataFrame em vários arquivos CSV\n",
        "        for i in range(0, total_linhas, linhas_por_arquivo):\n",
        "            inicio = i\n",
        "            fim = min(i + linhas_por_arquivo, total_linhas)\n",
        "            df_temp = df_main.iloc[inicio:fim]\n",
        "\n",
        "            # Definir o nome do arquivo CSV usando um índice\n",
        "            nome_arquivo = f'Processamento_{count_processo}_{count_empresas}_{i // linhas_por_arquivo}.csv'\n",
        "\n",
        "            # Salvar o arquivo CSV\n",
        "            df_temp.to_csv(os.path.join(diretorio_destino, nome_arquivo), sep=';', index=False, encoding='UTF-8')\n",
        "\n",
        "\n",
        "        count_empresas += 1\n",
        "\n",
        "    count_processo += 1\n"
      ]
    }
  ],
  "metadata": {
    "accelerator": "TPU",
    "colab": {
      "machine_shape": "hm",
      "provenance": [],
      "collapsed_sections": [
        "mrajB96CP2e5",
        "TJrThI5Rm91a",
        "uZyy5efOBQ4L"
      ],
      "authorship_tag": "ABX9TyNofs8EeoQYZcIXBfO3xPWY",
      "include_colab_link": true
    },
    "kernelspec": {
      "display_name": "Python 3",
      "name": "python3"
    },
    "language_info": {
      "name": "python"
    }
  },
  "nbformat": 4,
  "nbformat_minor": 0
}